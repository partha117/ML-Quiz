{
  "nbformat": 4,
  "nbformat_minor": 0,
  "metadata": {
    "colab": {
      "provenance": []
    },
    "kernelspec": {
      "name": "python3",
      "display_name": "Python 3"
    },
    "language_info": {
      "name": "python"
    }
  },
  "cells": [
    {
      "cell_type": "code",
      "execution_count": null,
      "metadata": {
        "id": "bOZ-4hrl5Ioc"
      },
      "outputs": [],
      "source": [
        "from google.colab import drive\n",
        "import pandas as pd\n",
        "import json\n",
        "import re\n",
        "from scipy.stats import mannwhitneyu"
      ]
    },
    {
      "cell_type": "code",
      "source": [
        "drive.mount('/content/drive')"
      ],
      "metadata": {
        "colab": {
          "base_uri": "https://localhost:8080/"
        },
        "id": "VnGq3PYP5RRj",
        "outputId": "0c749e7a-8ef1-499f-f130-d6a7f078fffa"
      },
      "execution_count": null,
      "outputs": [
        {
          "output_type": "stream",
          "name": "stdout",
          "text": [
            "Mounted at /content/drive\n"
          ]
        }
      ]
    },
    {
      "cell_type": "code",
      "source": [
        "test_output_df = pd.read_csv('/content/drive/MyDrive/ML-Quiz-XRay-ReportGeneration/Test_output.csv')"
      ],
      "metadata": {
        "id": "HzPDsbBt5cBe"
      },
      "execution_count": null,
      "outputs": []
    },
    {
      "cell_type": "code",
      "source": [
        "test_output_df = pd.read_csv('/content/drive/MyDrive/ML-Quiz-XRay-ReportGeneration/Test_output.csv')"
      ],
      "metadata": {
        "id": "CJRNUR5P5qWG"
      },
      "execution_count": null,
      "outputs": []
    },
    {
      "cell_type": "code",
      "source": [
        "with open(\"/content/drive/MyDrive/ML-Quiz-XRay-ReportGeneration/data/annotation_quiz_all.json\", \"r\") as f:\n",
        "    ground_truth = json.load(f)\n",
        "test_ground_truth = ground_truth['test']"
      ],
      "metadata": {
        "id": "Gne8lrPt52Ks"
      },
      "execution_count": null,
      "outputs": []
    },
    {
      "cell_type": "code",
      "source": [
        "def seperator(text):\n",
        "  text = text.lower()\n",
        "  patterns = {\n",
        "      \"lung\": re.compile(r\"lungs?\\s*:\\s*(.+?)(?=\\n(?:mediastinal|bones?|hearts?|others)\\s*:|$)\", re.IGNORECASE | re.DOTALL),\n",
        "      \"heart\": re.compile(r\"hearts?\\s*:\\s*(.+?)(?=\\n(?:mediastinal|bones?|lungs?|others)\\s*:|$)\", re.IGNORECASE | re.DOTALL),\n",
        "      \"mediastinal\": re.compile(r\"mediastinal\\s*:\\s*(.+?)(?=\\n(?:bones?|lungs?|hearts?|others)\\s*:|$)\", re.IGNORECASE | re.DOTALL),\n",
        "      \"bone\": re.compile(r\"bones?\\s*:\\s*(.+?)(?=\\n(?:mediastinal|lungs?|hearts?|others)\\s*:|$)\", re.IGNORECASE | re.DOTALL),\n",
        "      \"others\": re.compile(r\"others\\s*:\\s*(.+?)(?=\\n(?:mediastinal|bones?|lungs?|hearts?)\\s*:|$)\", re.IGNORECASE | re.DOTALL)\n",
        "  }\n",
        "\n",
        "  # Extracting the information using regex\n",
        "  extracted_info = {key: (match.group(1).strip() if (match := pattern.search(text)) else \"\") for key, pattern in patterns.items()}\n",
        "  return extracted_info"
      ],
      "metadata": {
        "id": "hp24euP36BhU"
      },
      "execution_count": null,
      "outputs": []
    },
    {
      "cell_type": "code",
      "source": [
        "def get_map(data):\n",
        "  output = dict()\n",
        "  for item in data:\n",
        "    if 'report' in item:\n",
        "      output[item['id']] = item['report']\n",
        "    else:\n",
        "      temp = dict()\n",
        "      for key, value in item.items():\n",
        "        if key in ['heart', 'bone', 'mediastinal', 'other', 'lung']:\n",
        "          temp[key] = value\n",
        "      output[item['id']] = temp\n",
        "  return output"
      ],
      "metadata": {
        "id": "psdb1WTn6cMG"
      },
      "execution_count": null,
      "outputs": []
    },
    {
      "cell_type": "code",
      "source": [
        "def get_region(df, region):\n",
        "  predicted = []\n",
        "  ground_truth = []\n",
        "  for index, row in df.iterrows():\n",
        "    if region in row['g_truth'].keys():\n",
        "      predicted.append(row['formatted_output'][region])\n",
        "      ground_truth.append(row['g_truth'][region])\n",
        "  return predicted, ground_truth"
      ],
      "metadata": {
        "id": "ZKO4K_Sj86aa"
      },
      "execution_count": null,
      "outputs": []
    },
    {
      "cell_type": "code",
      "source": [
        "test_output_df['formatted_output'] = test_output_df['output'].apply(seperator)"
      ],
      "metadata": {
        "id": "UrGGiTM26D2F"
      },
      "execution_count": null,
      "outputs": []
    },
    {
      "cell_type": "code",
      "source": [
        "test_output_map = get_map(ground_truth['test'])"
      ],
      "metadata": {
        "id": "6DXK7B5l6Feq"
      },
      "execution_count": null,
      "outputs": []
    },
    {
      "cell_type": "code",
      "source": [
        "test_output_df['g_truth'] = test_output_df['id'].apply(lambda x: test_output_map[x])"
      ],
      "metadata": {
        "id": "oWRLSl7y6dYh"
      },
      "execution_count": null,
      "outputs": []
    },
    {
      "cell_type": "code",
      "source": [
        "predicted, g_truth = get_region(test_output_df, 'bone')"
      ],
      "metadata": {
        "id": "uAdd5Row6lml"
      },
      "execution_count": null,
      "outputs": []
    },
    {
      "cell_type": "code",
      "source": [
        "(len([item for item in predicted if ('are not clearly visible' in item or 'to be intact without any signs of fracture or dislocation' in item)])/len(predicted))*100"
      ],
      "metadata": {
        "colab": {
          "base_uri": "https://localhost:8080/"
        },
        "id": "tMQDwMHTCFiX",
        "outputId": "f36c8ece-1f71-4ae4-ed1d-a9883585b0e1"
      },
      "execution_count": null,
      "outputs": [
        {
          "output_type": "execute_result",
          "data": {
            "text/plain": [
              "55.932203389830505"
            ]
          },
          "metadata": {},
          "execution_count": 61
        }
      ]
    },
    {
      "cell_type": "code",
      "source": [
        "observation_zero = []\n",
        "observation_nonzero = []\n",
        "for p, g in zip(predicted, g_truth):\n",
        "  if len(g) <=1:\n",
        "    target_array = observation_zero\n",
        "  else:\n",
        "    target_array = observation_nonzero\n",
        "  if 'are not clearly visible' in p or 'to be intact without any signs of fracture or dislocation' in p:\n",
        "    target_array.append(0)\n",
        "  else:\n",
        "    target_array.append(1)\n"
      ],
      "metadata": {
        "id": "r3fR537x9C5f"
      },
      "execution_count": null,
      "outputs": []
    },
    {
      "cell_type": "code",
      "source": [
        "mannwhitneyu(observation_zero, observation_nonzero, alternative='less')"
      ],
      "metadata": {
        "colab": {
          "base_uri": "https://localhost:8080/"
        },
        "id": "M1BimLmx-iw9",
        "outputId": "d610511c-322a-4a5c-e2fb-f7acfb670345"
      },
      "execution_count": null,
      "outputs": [
        {
          "output_type": "execute_result",
          "data": {
            "text/plain": [
              "MannwhitneyuResult(statistic=380.5, pvalue=0.2754716822647637)"
            ]
          },
          "metadata": {},
          "execution_count": 69
        }
      ]
    },
    {
      "cell_type": "code",
      "source": [
        "(sum([1 for item in ground_truth['train'] if len(item['report']['mediastinal']) <= 1])/len(ground_truth['train'])) *100"
      ],
      "metadata": {
        "colab": {
          "base_uri": "https://localhost:8080/"
        },
        "id": "-hiHCsNdElvS",
        "outputId": "0b203b8d-e38d-44a0-85dc-34df5af605e1"
      },
      "execution_count": null,
      "outputs": [
        {
          "output_type": "execute_result",
          "data": {
            "text/plain": [
              "21.846302561623972"
            ]
          },
          "metadata": {},
          "execution_count": 80
        }
      ]
    }
  ]
}